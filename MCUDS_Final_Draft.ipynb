{
 "cells": [
  {
   "cell_type": "code",
   "execution_count": 1,
   "id": "3a4e16bc-934e-45d8-92d1-f882ab15f5fa",
   "metadata": {},
   "outputs": [
    {
     "data": {
      "text/html": [
       "<html>\\(\\displaystyle \\verb|b'Hello!'|\\)</html>"
      ],
      "text/latex": [
       "$\\displaystyle \\verb|b'Hello!'|$"
      ],
      "text/plain": [
       "b'Hello!'"
      ]
     },
     "metadata": {},
     "output_type": "display_data"
    }
   ],
   "source": [
    "# Prerequisites\n",
    "\n",
    "import hashlib\n",
    "import random\n",
    "import time\n",
    "\n",
    "security_bits = 128\n",
    "\n",
    "F = GF(2**8, name = 'a') # galois field GF(2^8)\n",
    "v = 2       # number of polynomials in central map\n",
    "l = 3 * v   # number of variables of GF(256)\n",
    "P = PolynomialRing(F, names=[f'x{i}' for i in range(1, l + 1)])\n",
    "a = P.gens()\n",
    "\n",
    "hash_len_1 = l\n",
    "hash_len_2 = v*l*(l + 3)//2\n",
    "hash_len_3 = v\n",
    "\n",
    "Message = b'Hello!'  # byte string of message sent\n",
    "pretty_print(Message)"
   ]
  },
  {
   "cell_type": "code",
   "execution_count": 2,
   "id": "aefee132-ca2b-4463-8981-8996a79b9a9d",
   "metadata": {},
   "outputs": [],
   "source": [
    "# Helper Functions\n",
    "\n",
    "def bytes_to_vector(byte_string):\n",
    "        \n",
    "    temp_vector = vector(F, [0]*(len(byte_string) // 2 ))\n",
    "\n",
    "    for i in range(0, len(byte_string), 2):\n",
    "        hex_pair = byte_string[i:i+2]\n",
    "        elem = int(hex_pair, 16)\n",
    "        temp_vector[i // 2] = F.from_integer(elem)\n",
    "\n",
    "    return temp_vector\n",
    "\n",
    "def bytes_to_list(byte_string):\n",
    "\n",
    "    return bytes_to_vector(byte_string).list()\n",
    "\n",
    "def bits_to_bytes(bits, bits_length):\n",
    "    return bits.to_bytes(bits_length // 8, byteorder = 'big')\n",
    "\n",
    "def list_to_bytes(in_list):\n",
    "\n",
    "    byte_string = b''\n",
    "    \n",
    "    for i in range(len(in_list)):\n",
    "        int_val = in_list[i].to_integer()\n",
    "        byte_string += int_val.to_bytes(1, byteorder = 'big')\n",
    "\n",
    "    return byte_string\n",
    "\n",
    "def vector_to_bytes(vector):\n",
    "\n",
    "    byte_string = b''\n",
    "    \n",
    "    for i in range(len(vector)):\n",
    "        int_val = vector[i].to_integer()\n",
    "        byte_string += int_val.to_bytes(1, byteorder = 'big')\n",
    "        \n",
    "    return byte_string\n",
    "\n",
    "def random_bits(bit_length):\n",
    "    return random.getrandbits(bit_length)\n",
    "\n",
    "def hashFunction(M, output_length):\n",
    "    \n",
    "    # Create SHAKE128 hash object\n",
    "    shake_hash = hashlib.shake_128()\n",
    "    shake_hash.update(M)\n",
    "    \n",
    "    # Return the hash as a hexadecimal string\n",
    "    return shake_hash.hexdigest(output_length)\n",
    "\n",
    "def computePolarForm(poly_system, u, v):\n",
    "    sum_vector = vector(F, [F(u[i] + v[i]) for i in range(len(v))])\n",
    "\n",
    "    val1 = [poly.subs({a[j]: sum_vector[j] for j in range(len(sum_vector))}) for poly in poly_system]\n",
    "    val2 = [poly.subs({a[j]: u[j] for j in range(len(u))}) for poly in poly_system]\n",
    "    val3 = [poly.subs({a[j]: v[j] for j in range(len(v))}) for poly in poly_system]\n",
    "\n",
    "    return vector(F, [F(val1[i] - val2[i] - val3[i]) for i in range(len(val1))])"
   ]
  },
  {
   "cell_type": "code",
   "execution_count": 3,
   "id": "764bd39b-2ef8-489e-8065-3d88a739e1de",
   "metadata": {},
   "outputs": [],
   "source": [
    "# PRIVATE KEYGEN\n",
    "\n",
    "keygen_s_time = time.time()\n",
    "\n",
    "central_map = []\n",
    "\n",
    "# Generate Nu Linear tranformation\n",
    "while True:\n",
    "    Nu = random_matrix(F, l, l)\n",
    "    if Nu.is_invertible():\n",
    "        break\n",
    "\n",
    "# generate the central map consisting of multivariate quadratic polynomials\n",
    "central_map = []\n",
    "for i in range(v):\n",
    "\n",
    "    poly = P.zero()\n",
    "\n",
    "    # quadratic terms\n",
    "    for j in range(l - v):\n",
    "        for k in range(j, l):\n",
    "            poly += F.random_element() * a[j] * a[k]\n",
    "\n",
    "    # linear terms\n",
    "    for j in range(l):\n",
    "        poly += F.random_element() * a[j]\n",
    "\n",
    "    # No Constant term is added so polar form is computed easily\n",
    "    central_map.append(poly)\n",
    "\n",
    "# generate Z\n",
    "z = random_bits(security_bits)"
   ]
  },
  {
   "cell_type": "code",
   "execution_count": 4,
   "id": "17669c1a-19ff-45ff-8cf4-ee9a497f9afc",
   "metadata": {},
   "outputs": [
    {
     "data": {
      "text/html": [
       "<html>\\(\\displaystyle \\verb|Keygen|\\verb| |\\verb|Time|\\verb| |\\verb|(in|\\verb| |\\verb|seconds):| 0.021776437759399414\\)</html>"
      ],
      "text/latex": [
       "$\\displaystyle \\verb|Keygen|\\verb| |\\verb|Time|\\verb| |\\verb|(in|\\verb| |\\verb|seconds):| 0.021776437759399414$"
      ],
      "text/plain": [
       "'Keygen Time (in seconds): ' 0.021776437759399414"
      ]
     },
     "metadata": {},
     "output_type": "display_data"
    }
   ],
   "source": [
    "# PUBLIC KEYGEN\n",
    "\n",
    "transformation_nu = [P(0) for _ in range(l)]\n",
    "\n",
    "for i in range(l):\n",
    "    for j in range(l):\n",
    "        transformation_nu[i] += Nu[i][j] * a[j]\n",
    "        \n",
    "trans_central_map = []\n",
    "\n",
    "for poly in central_map:\n",
    "    pub_poly = poly\n",
    "    substitutions = {a[j]: transformation_nu[j] for j in range(l)}\n",
    "    pub_poly = pub_poly.subs(substitutions)\n",
    "    trans_central_map.append(pub_poly)\n",
    "\n",
    "\n",
    "keygen_e_time = time.time()\n",
    "\n",
    "pretty_print(\"Keygen Time (in seconds): \", keygen_e_time - keygen_s_time)"
   ]
  },
  {
   "cell_type": "code",
   "execution_count": 5,
   "id": "bebe92fc-e78b-4c37-899c-0b819ec16f51",
   "metadata": {},
   "outputs": [
    {
     "data": {
      "text/html": [
       "<html>\\(\\displaystyle \\verb|Sigma1:| \\left[a^{7} + a^{5} + a + 1, a^{6} + a^{5} + a^{4} + a^{2} + a\\right]\\)</html>"
      ],
      "text/latex": [
       "$\\displaystyle \\verb|Sigma1:| \\left[a^{7} + a^{5} + a + 1, a^{6} + a^{5} + a^{4} + a^{2} + a\\right]$"
      ],
      "text/plain": [
       "'Sigma1:' [a^7 + a^5 + a + 1, a^6 + a^5 + a^4 + a^2 + a]"
      ]
     },
     "metadata": {},
     "output_type": "display_data"
    },
    {
     "data": {
      "text/html": [
       "<html>\\(\\displaystyle \\verb|Sigma2:| \\left(\\left[a^{5} + a^{4} + a^{3} + a^{2} + 1, a^{7} + a^{5} + a^{4} + a^{3} + a + 1\\right], 34630101580499374732787696401911559067, 76880534273226366505192774144417897421\\right)\\)</html>"
      ],
      "text/latex": [
       "$\\displaystyle \\verb|Sigma2:| \\left(\\left[a^{5} + a^{4} + a^{3} + a^{2} + 1, a^{7} + a^{5} + a^{4} + a^{3} + a + 1\\right], 34630101580499374732787696401911559067, 76880534273226366505192774144417897421\\right)$"
      ],
      "text/plain": [
       "'Sigma2:' ([a^5 + a^4 + a^3 + a^2 + 1, a^7 + a^5 + a^4 + a^3 + a + 1],\n",
       " 34630101580499374732787696401911559067,\n",
       " 76880534273226366505192774144417897421)"
      ]
     },
     "metadata": {},
     "output_type": "display_data"
    },
    {
     "data": {
      "text/html": [
       "<html>\\(\\displaystyle \\verb|Sigma3:| \\left(a^{7} + a^{5} + a^{3} + a + 1,\\,a^{7} + a^{5} + a^{4} + 1,\\,a^{7} + a^{6} + a^{5} + a^{4} + a^{3},\\,a^{7} + a^{5} + a^{4} + a^{3} + a^{2} + a,\\,a^{5} + a^{2} + a,\\,a^{6} + a^{5} + a\\right)\\)</html>"
      ],
      "text/latex": [
       "$\\displaystyle \\verb|Sigma3:| \\left(a^{7} + a^{5} + a^{3} + a + 1,\\,a^{7} + a^{5} + a^{4} + 1,\\,a^{7} + a^{6} + a^{5} + a^{4} + a^{3},\\,a^{7} + a^{5} + a^{4} + a^{3} + a^{2} + a,\\,a^{5} + a^{2} + a,\\,a^{6} + a^{5} + a\\right)$"
      ],
      "text/plain": [
       "'Sigma3:' (a^7 + a^5 + a^3 + a + 1, a^7 + a^5 + a^4 + 1, a^7 + a^6 + a^5 + a^4 + a^3, a^7 + a^5 + a^4 + a^3 + a^2 + a, a^5 + a^2 + a, a^6 + a^5 + a)"
      ]
     },
     "metadata": {},
     "output_type": "display_data"
    },
    {
     "data": {
      "text/html": [
       "<html>\\(\\displaystyle \\verb|Signing|\\verb| |\\verb|Time|\\verb| |\\verb|(in|\\verb| |\\verb|seconds):| 0.04453635215759277\\)</html>"
      ],
      "text/latex": [
       "$\\displaystyle \\verb|Signing|\\verb| |\\verb|Time|\\verb| |\\verb|(in|\\verb| |\\verb|seconds):| 0.04453635215759277$"
      ],
      "text/plain": [
       "'Signing Time (in seconds): ' 0.04453635215759277"
      ]
     },
     "metadata": {},
     "output_type": "display_data"
    }
   ],
   "source": [
    "# SIGNING\n",
    "\n",
    "sign_s_time = time.time()\n",
    "\n",
    "alpha = random_bits(security_bits)\n",
    "sd = random_bits(security_bits)\n",
    "alpha_bytes = bits_to_bytes(alpha, security_bits)\n",
    "sd_bytes = bits_to_bytes(sd, security_bits)\n",
    "\n",
    "s = hashFunction(alpha_bytes, hash_len_1)\n",
    "temp_hash_1 = hashFunction(sd_bytes, hash_len_2)\n",
    "temp_hash_2 = hashFunction(Message + sd_bytes, hash_len_2)\n",
    "\n",
    "d_prime = []\n",
    "poly_size = l*(l+3)//2\n",
    "\n",
    "for i in range(v):\n",
    "    counter = 0\n",
    "    poly = P.zero()\n",
    "    for j in range(l):\n",
    "        for k in range(j, l):\n",
    "            byte_val = temp_hash_1[counter + i * poly_size]\n",
    "            elem = int(byte_val, 16)\n",
    "            poly += F.from_integer(elem) * a[j] * a[k]\n",
    "            counter += 1\n",
    "\n",
    "    for j in range(l):\n",
    "        byte_val = temp_hash_1[counter + i * poly_size]\n",
    "        elem = int(byte_val, 16)\n",
    "        poly += F.from_integer(elem) * a[j]\n",
    "        counter += 1\n",
    "\n",
    "    d_prime.append(poly)\n",
    "\n",
    "d_prime_m = []\n",
    "\n",
    "for i in range(v):\n",
    "    counter = 0\n",
    "    poly = P.zero()\n",
    "    for j in range(l):\n",
    "        for k in range(j, l):\n",
    "            byte_val = temp_hash_2[counter + i * poly_size]\n",
    "            elem = int(byte_val, 16)\n",
    "            poly += F.from_integer(elem) * a[j] * a[k]\n",
    "            counter += 1\n",
    "\n",
    "    for j in range(l):\n",
    "        byte_val = temp_hash_2[counter + i * poly_size]\n",
    "        elem = int(byte_val, 16)\n",
    "        poly += F.from_integer(elem) * a[j]\n",
    "        counter += 1\n",
    "\n",
    "    d_prime_m.append(poly)\n",
    "\n",
    "\n",
    "temp_priv_key_s = bytes_to_list(s)\n",
    "\n",
    "\n",
    "y = [poly(*temp_priv_key_s) for poly in d_prime]\n",
    "sigma_1 = [poly(*temp_priv_key_s) for poly in d_prime_m]\n",
    "sigma_2 = (y, alpha ^^ z, sd)\n",
    "\n",
    "sigma_1_bytes = list_to_bytes(sigma_1)\n",
    "\n",
    "y_bytes = list_to_bytes(y)\n",
    "alpha_z_bytes = bits_to_bytes(alpha ^^ z, security_bits)\n",
    "sigma_2_bytes = b''.join([y_bytes, alpha_z_bytes, sd_bytes])\n",
    "\n",
    "hashed_vector = bytes_to_vector(hashFunction(sigma_1_bytes + sigma_2_bytes, hash_len_3))\n",
    "\n",
    "solved = False\n",
    "\n",
    "while not solved:\n",
    "    # Generate random elements for l - v variables\n",
    "    l_minus_v = [F.random_element() for i in range(l - v)]\n",
    "\n",
    "    # Substitute to form a linear system\n",
    "    linear_eqs = [poly.subs({a[j]: l_minus_v[j] for j in range(l - v)}) for poly in central_map]\n",
    "    \n",
    "    # Construct matrix C with coefficients of a[l - v + i] for i in range(v)\n",
    "    C = Matrix(F, v, v, [[eq.coefficient(a[l - v + i]) for i in range(v)] for eq in linear_eqs])\n",
    "    d = vector(F, [hashed_vector[i] - eq.constant_coefficient() for i, eq in enumerate(linear_eqs)])\n",
    "    \n",
    "    # Solve the linear system Cx = d if rank condition is met\n",
    "    if C.rank() == v:\n",
    "        try:\n",
    "            solution = C.solve_right(d)\n",
    "            solved = True\n",
    "        except Exception:\n",
    "            solved = False\n",
    "\n",
    "sol_vector = vector(F, l_minus_v + list(solution))\n",
    "sigma_3 = Nu.inverse() * sol_vector\n",
    "\n",
    "sign_e_time = time.time()\n",
    "\n",
    "pretty_print(\"Sigma1:\", sigma_1)\n",
    "pretty_print(\"Sigma2:\", sigma_2)\n",
    "pretty_print(\"Sigma3:\", sigma_3)\n",
    "pretty_print(\"Signing Time (in seconds): \", sign_e_time - sign_s_time)"
   ]
  },
  {
   "cell_type": "code",
   "execution_count": 6,
   "id": "9c5ff2e7-6839-4ae4-a3ad-2cd0e7752c94",
   "metadata": {},
   "outputs": [
    {
     "data": {
      "text/html": [
       "<html>\\(\\displaystyle \\verb|Verification|\\verb| |\\verb|Step|\\verb| |\\verb|1|\\verb| |\\verb|Completed|\\verb| |\\verb|Successfully!|\\)</html>"
      ],
      "text/latex": [
       "$\\displaystyle \\verb|Verification|\\verb| |\\verb|Step|\\verb| |\\verb|1|\\verb| |\\verb|Completed|\\verb| |\\verb|Successfully!|$"
      ],
      "text/plain": [
       "'Verification Step 1 Completed Successfully!'"
      ]
     },
     "metadata": {},
     "output_type": "display_data"
    }
   ],
   "source": [
    "# VERIFICATION STEP 1\n",
    "\n",
    "verification_s_time = time.time()\n",
    "\n",
    "result = vector(F, [poly.subs({a[j]: sigma_3[j] for j in range(len(sigma_3))}) for poly in trans_central_map])\n",
    "\n",
    "ver_true = True\n",
    "\n",
    "if (hashed_vector != result):\n",
    "    ver_true = False\n",
    "    pretty_print(\"Verification Step 1 failed!\")\n",
    "        \n",
    "if ver_true:        \n",
    "    pretty_print(\"Verification Step 1 Completed Successfully!\")"
   ]
  },
  {
   "cell_type": "code",
   "execution_count": 7,
   "id": "98b5a5f5-42c6-49d1-bad0-6b1ce98f0b93",
   "metadata": {},
   "outputs": [],
   "source": [
    "# Verification Table\n",
    "\n",
    "u0 = vector(F, [F.random_element() for i in range(l)])\n",
    "v0 = vector(F, [F.random_element() for i in range(l)])\n",
    "p0 = vector(F, [F.random_element() for i in range(l)])\n",
    "\n",
    "w0 = vector(F, [F.random_element() for i in range(v)])\n",
    "q0 = vector(F, [F.random_element() for i in range(v)])\n",
    "\n",
    "u1 = vector(F, [temp_priv_key_s[i] - u0[i] for i in range(l)])\n",
    "v1 = vector(F, [u0[i] - v0[i] for i in range(l)])\n",
    "p1 = vector(F, [u1[i] - p0[i] for i in range(l)])\n",
    "\n",
    "w1 = vector(F, [poly.subs({a[j]: u0[j] for j in range(l)}) for poly in d_prime])\n",
    "w1 = vector(F, [w1[i] - w0[i] for i in range(v)])\n",
    "\n",
    "w1_star = vector(F, [poly.subs({a[j]: u0[j] for j in range(l)}) for poly in d_prime_m])\n",
    "w1_star = vector(F, [w1_star[i] - w0[i] for i in range(v)])\n",
    "\n",
    "q1 = vector(F, [poly.subs({a[j]: u1[j] for j in range(l)}) for poly in d_prime])\n",
    "q1 = vector(F, [q1[i] - q0[i] for i in range(v)])\n",
    "\n",
    "q1_star =  vector(F, [poly.subs({a[j]: u1[j] for j in range(l)}) for poly in d_prime_m])\n",
    "q1_star = vector(F, [q1_star[i] - q0[i] for i in range(v)])"
   ]
  },
  {
   "cell_type": "code",
   "execution_count": 8,
   "id": "8bb15ec2-46d9-429d-9856-4bde2d4ecf89",
   "metadata": {},
   "outputs": [],
   "source": [
    "# COMPUTE COMMITMENTS\n",
    "\n",
    "commitment_length = (security_bits * 2) // 8 # security_bits is 128, hence 32 byte output from commitment\n",
    "\n",
    "c0 = hashFunction(vector_to_bytes(u1) + vector_to_bytes(vector(F, computePolarForm(d_prime, v0, u1) + w0)), commitment_length)\n",
    "c0_star = hashFunction(vector_to_bytes(u1) + vector_to_bytes(vector(F, computePolarForm(d_prime_m, v0, u1) + w0)), commitment_length)\n",
    "\n",
    "c1 = hashFunction(vector_to_bytes(u0) + vector_to_bytes(vector(F, computePolarForm(d_prime, u0, p0) + q0)), commitment_length)\n",
    "c1_star = hashFunction(vector_to_bytes(u0) + vector_to_bytes(vector(F, computePolarForm(d_prime_m, u0, p0) + q0)), commitment_length)\n",
    "\n",
    "c2 = hashFunction(vector_to_bytes(v0) + vector_to_bytes(w0), commitment_length)\n",
    "c3 = hashFunction(vector_to_bytes(v1) + vector_to_bytes(w1) + vector_to_bytes(w1_star), commitment_length)\n",
    "c4 = hashFunction(vector_to_bytes(p0) + vector_to_bytes(q0), commitment_length)\n",
    "c5 = hashFunction(vector_to_bytes(p1) + vector_to_bytes(q1) + vector_to_bytes(q1_star), commitment_length)"
   ]
  },
  {
   "cell_type": "code",
   "execution_count": 9,
   "id": "fcb1bed0-eac3-4994-960c-b5fe7a600ac9",
   "metadata": {},
   "outputs": [
    {
     "data": {
      "text/html": [
       "<html>\\(\\displaystyle \\verb|Challenge|\\verb| |\\verb|chosen:| 1\\)</html>"
      ],
      "text/latex": [
       "$\\displaystyle \\verb|Challenge|\\verb| |\\verb|chosen:| 1$"
      ],
      "text/plain": [
       "'Challenge chosen:' 1"
      ]
     },
     "metadata": {},
     "output_type": "display_data"
    }
   ],
   "source": [
    "# VERIFIER CHOOSES A CHALLENGE FROM {0, 1, 2, 3}\n",
    "\n",
    "chosen_challenge = randint(0, 3)\n",
    "\n",
    "pretty_print(\"Challenge chosen:\", chosen_challenge)"
   ]
  },
  {
   "cell_type": "code",
   "execution_count": 10,
   "id": "c58d561a-62f2-4a6d-b170-feac70c6d6d5",
   "metadata": {},
   "outputs": [],
   "source": [
    "# SIGNER GENERATES RESPONSE AS PER CHALLENGE\n",
    "\n",
    "if (chosen_challenge == 0):\n",
    "    response = (u0, v1, w1, w1_star, p1, q1, q1_star)\n",
    "elif (chosen_challenge == 1):\n",
    "    response = (u0, v0, w0, p0, q0)\n",
    "elif (chosen_challenge == 2):\n",
    "    response = (u1, v1, w1, w1_star, p1, q1, q1_star)\n",
    "elif (chosen_challenge == 3):\n",
    "    response = (u1, v0, w0, p0, q0)"
   ]
  },
  {
   "cell_type": "code",
   "execution_count": 11,
   "id": "ac38e4e3-e45e-4656-92d8-3a747b95896f",
   "metadata": {},
   "outputs": [],
   "source": [
    "# VERIFIER VERIFIES COMMITMENTS\n",
    "\n",
    "# CHALLENGE 0\n",
    "\n",
    "if (chosen_challenge == 0):\n",
    "    temp_val1 = vector(F, [poly.subs({a[j]: u0[j] for j in range(l)}) for poly in d_prime])  # d_prime(u0)\n",
    "    temp_val2 = hashFunction(vector_to_bytes(response[0]) + vector_to_bytes(vector(F, y) - temp_val1 - computePolarForm(d_prime, response[0], response[4]) - response[5]), commitment_length)\n",
    "\n",
    "    temp_val3 = vector(F, [poly.subs({a[j]: u0[j] for j in range(l)}) for poly in d_prime_m])  # d_prime_m(u0)\n",
    "    temp_val4 = hashFunction(vector_to_bytes(response[0]) + vector_to_bytes(vector(F, sigma_1) - temp_val3 - computePolarForm(d_prime_m, response[0], response[4]) - response[6]), commitment_length)\n",
    "\n",
    "    temp_val5 = hashFunction(vector_to_bytes(response[0] - response[1]) + vector_to_bytes(temp_val1 - response[2]), commitment_length)\n",
    "\n",
    "    temp_val6 = hashFunction(vector_to_bytes(response[1]) + vector_to_bytes(response[2]) + vector_to_bytes(response[3]), commitment_length)\n",
    "    temp_val7 = hashFunction(vector_to_bytes(response[4]) + vector_to_bytes(response[5]) + vector_to_bytes(response[6]), commitment_length)\n",
    "    \n",
    "    if (c1 == temp_val2 and c1_star == temp_val4):\n",
    "        pretty_print(\"Confirmation in Challenge 0!\")\n",
    "    elif (not (c1_star == temp_val4)):\n",
    "        pretty_print(\"Disavowal in Challenge 0!\")\n",
    "    \n",
    "    if (not (c2 == temp_val5 and c3 == temp_val6 and c5 == temp_val7)):\n",
    "        pretty_print(\"Challenge 0 Failed!\")\n",
    "    else:\n",
    "        pretty_print(\"Challenge 0 Succeeded!\")"
   ]
  },
  {
   "cell_type": "code",
   "execution_count": 12,
   "id": "f6e88e16-bdbc-4dc5-8609-c87fa533fac4",
   "metadata": {},
   "outputs": [
    {
     "data": {
      "text/html": [
       "<html>\\(\\displaystyle \\verb|Challenge|\\verb| |\\verb|1|\\verb| |\\verb|Succeeded!|\\)</html>"
      ],
      "text/latex": [
       "$\\displaystyle \\verb|Challenge|\\verb| |\\verb|1|\\verb| |\\verb|Succeeded!|$"
      ],
      "text/plain": [
       "'Challenge 1 Succeeded!'"
      ]
     },
     "metadata": {},
     "output_type": "display_data"
    }
   ],
   "source": [
    "# CHALLENGE 1\n",
    "\n",
    "if (chosen_challenge == 1):\n",
    "    \n",
    "    temp_val1 = hashFunction(vector_to_bytes(response[0]) + vector_to_bytes(computePolarForm(d_prime, response[0], response[3]) + response[4]), commitment_length)\n",
    "    temp_val2 = hashFunction(vector_to_bytes(response[0]) + vector_to_bytes(computePolarForm(d_prime_m, response[0], response[3]) + response[4]), commitment_length)\n",
    "    temp_val3 = hashFunction(vector_to_bytes(response[1]) + vector_to_bytes(response[2]), commitment_length)\n",
    "\n",
    "    mid_result1 = vector(F, [poly.subs({a[j]: u0[j] for j in range(l)}) for poly in d_prime])\n",
    "    mid_result2 = vector(F, [poly.subs({a[j]: u0[j] for j in range(l)}) for poly in d_prime_m])\n",
    "    \n",
    "    temp_val4 = hashFunction(vector_to_bytes(response[0] - response[1]) + vector_to_bytes(mid_result1 - response[2]) + vector_to_bytes(mid_result2 - response[2]), commitment_length)\n",
    "    temp_val5 = hashFunction(vector_to_bytes(response[3]) + vector_to_bytes(response[4]), commitment_length)\n",
    "    \n",
    "    if (not (c1 == temp_val1 and c1_star == temp_val2 and c2 == temp_val3 and c3 == temp_val4 and c4 == temp_val5)):\n",
    "        pretty_print(\"Challenge 1 Failed!\")\n",
    "    else:\n",
    "        pretty_print(\"Challenge 1 Succeeded!\")"
   ]
  },
  {
   "cell_type": "code",
   "execution_count": 13,
   "id": "46dc2ec4-debf-4e9b-b043-9d36efd75623",
   "metadata": {},
   "outputs": [],
   "source": [
    "# CHALLENGE 2\n",
    "\n",
    "if (chosen_challenge == 2):\n",
    "\n",
    "    temp_val0 = vector(F, [poly.subs({a[j]: u1[j] for j in range(l)}) for poly in d_prime])\n",
    "    temp_val1 = hashFunction(vector_to_bytes(response[0]) + vector_to_bytes(vector(F, y) - temp_val0 - computePolarForm(d_prime, response[1], response[0]) - response[2]), commitment_length)\n",
    "\n",
    "    temp_val2 = vector(F, [poly.subs({a[j]: u1[j] for j in range(l)}) for poly in d_prime_m])\n",
    "    temp_val3 = hashFunction(vector_to_bytes(response[0]) + vector_to_bytes(vector(F, sigma_1) - temp_val2 - computePolarForm(d_prime_m, response[1], response[0]) - response[3]), commitment_length)\n",
    "\n",
    "    temp_val4 = hashFunction(vector_to_bytes(response[1]) + vector_to_bytes(response[2]) + vector_to_bytes(response[3]), commitment_length)\n",
    "    temp_val5 = hashFunction(vector_to_bytes(response[0] - response[4]) + vector_to_bytes(temp_val0 - response[5]), commitment_length)\n",
    "    temp_val6 = hashFunction(vector_to_bytes(response[4]) + vector_to_bytes(response[5]) + vector_to_bytes(response[6]), commitment_length)\n",
    "\n",
    "    if (c0 == temp_val1 and c0_star == temp_val3):\n",
    "        pretty_print(\"Confirmation in challenge 2!\")\n",
    "    elif (not (c0_star == temp_val3)):\n",
    "        pretty_print(\"Disavowal in challenge 2!\")\n",
    "    \n",
    "    if (not (c3 == temp_val4 and c4 == temp_val5 and c5 == temp_val6)):\n",
    "        pretty_print(\"Challenge 2 Failed!\")\n",
    "    else:\n",
    "        pretty_print(\"Challenge 2 Succeeded!\")"
   ]
  },
  {
   "cell_type": "code",
   "execution_count": 14,
   "id": "b415317c-900c-4736-b5c1-e314c78be78d",
   "metadata": {},
   "outputs": [
    {
     "data": {
      "text/html": [
       "<html>\\(\\displaystyle \\verb|Verification|\\verb| |\\verb|Time|\\verb| |\\verb|MCUDS|\\verb| |\\verb|(in|\\verb| |\\verb|seconds):| 0.06501173973083496\\)</html>"
      ],
      "text/latex": [
       "$\\displaystyle \\verb|Verification|\\verb| |\\verb|Time|\\verb| |\\verb|MCUDS|\\verb| |\\verb|(in|\\verb| |\\verb|seconds):| 0.06501173973083496$"
      ],
      "text/plain": [
       "'Verification Time MCUDS (in seconds): ' 0.06501173973083496"
      ]
     },
     "metadata": {},
     "output_type": "display_data"
    }
   ],
   "source": [
    "# CHALLENGE 3\n",
    "\n",
    "if (chosen_challenge == 3):\n",
    "\n",
    "    temp_val0 = hashFunction(vector_to_bytes(response[0]) + vector_to_bytes(computePolarForm(d_prime, response[1], response[0]) + response[2]), commitment_length) \n",
    "    temp_val1 = hashFunction(vector_to_bytes(response[0]) + vector_to_bytes(computePolarForm(d_prime_m, response[1], response[0]) + response[2]), commitment_length)\n",
    "    temp_val2 = hashFunction(vector_to_bytes(response[1]) + vector_to_bytes(response[2]), commitment_length)\n",
    "    temp_val3 = hashFunction(vector_to_bytes(response[3]) + vector_to_bytes(response[4]), commitment_length)\n",
    "    \n",
    "    temp_val4 = vector(F, [poly.subs({a[j]: u1[j] for j in range(l)}) for poly in d_prime])\n",
    "    temp_val5 = vector(F, [poly.subs({a[j]: u1[j] for j in range(l)}) for poly in d_prime_m])\n",
    "\n",
    "    temp_val6 = hashFunction(vector_to_bytes(response[0] - response[3]) + vector_to_bytes(temp_val4 - response[4]) + vector_to_bytes(temp_val5 - response[4]), commitment_length)\n",
    "\n",
    "    if (not (c0 == temp_val0 and c0_star == temp_val1 and c2 == temp_val2 and c4 == temp_val3 and c5 == temp_val6)):\n",
    "        pretty_print(\"Challenge 3 Failed!\")\n",
    "    else:\n",
    "        pretty_print(\"Challenge 3 Succeeded!\")\n",
    "\n",
    "verification_e_time = time.time()\n",
    "pretty_print(\"Verification Time MCUDS (in seconds): \", verification_e_time - verification_s_time)"
   ]
  },
  {
   "cell_type": "code",
   "execution_count": 15,
   "id": "d5df7e91-de18-4308-9cd5-16b93214adea",
   "metadata": {
    "scrolled": true
   },
   "outputs": [
    {
     "data": {
      "text/html": [
       "<html>\\(\\displaystyle \\verb|Accepted!|\\)</html>"
      ],
      "text/latex": [
       "$\\displaystyle \\verb|Accepted!|$"
      ],
      "text/plain": [
       "'Accepted!'"
      ]
     },
     "metadata": {},
     "output_type": "display_data"
    }
   ],
   "source": [
    "# ConMCUDS VERIFICATION PART 1\n",
    "conmcuds_s_time = time.time()\n",
    "\n",
    "check1 = vector(F, [poly.subs({a[j]: sigma_3[j] for j in range(len(sigma_3))}) for poly in trans_central_map])\n",
    "check2 = bytes_to_vector(hashFunction(sigma_1_bytes + sigma_2_bytes, hash_len_3))\n",
    "\n",
    "if (check1 == check2):\n",
    "    pretty_print(\"Accepted!\")\n",
    "else:\n",
    "    pretty_print(\"Rejected!\")"
   ]
  },
  {
   "cell_type": "code",
   "execution_count": 16,
   "id": "a97624f0-0903-477c-b6b5-214ff1d26875",
   "metadata": {},
   "outputs": [
    {
     "data": {
      "text/html": [
       "<html>\\(\\displaystyle \\verb|Accepted!|\\)</html>"
      ],
      "text/latex": [
       "$\\displaystyle \\verb|Accepted!|$"
      ],
      "text/plain": [
       "'Accepted!'"
      ]
     },
     "metadata": {},
     "output_type": "display_data"
    },
    {
     "data": {
      "text/html": [
       "<html>\\(\\displaystyle \\verb|Verification|\\verb| |\\verb|Time|\\verb| |\\verb|ConMCUDS|\\verb| |\\verb|(in|\\verb| |\\verb|seconds):| 0.008864402770996094\\)</html>"
      ],
      "text/latex": [
       "$\\displaystyle \\verb|Verification|\\verb| |\\verb|Time|\\verb| |\\verb|ConMCUDS|\\verb| |\\verb|(in|\\verb| |\\verb|seconds):| 0.008864402770996094$"
      ],
      "text/plain": [
       "'Verification Time ConMCUDS (in seconds): ' 0.008864402770996094"
      ]
     },
     "metadata": {},
     "output_type": "display_data"
    }
   ],
   "source": [
    "# ConMCUDS VERIFICATION PART 2\n",
    "\n",
    "check3 = [poly(*temp_priv_key_s) for poly in d_prime]\n",
    "check4 = [poly(*temp_priv_key_s) for poly in d_prime_m]\n",
    "\n",
    "if (check3 == y and check4 == sigma_1):\n",
    "    pretty_print(\"Accepted!\")\n",
    "else:\n",
    "    pretty_print(\"Rejected\")\n",
    "\n",
    "conmcuds_e_time = time.time()\n",
    "pretty_print(\"Verification Time ConMCUDS (in seconds): \", conmcuds_e_time - conmcuds_s_time) "
   ]
  }
 ],
 "metadata": {
  "kernelspec": {
   "display_name": "SageMath 10.4",
   "language": "sage",
   "name": "sagemath"
  },
  "language_info": {
   "codemirror_mode": {
    "name": "ipython",
    "version": 3
   },
   "file_extension": ".py",
   "mimetype": "text/x-python",
   "name": "python",
   "nbconvert_exporter": "python",
   "pygments_lexer": "ipython3",
   "version": "3.11.10"
  }
 },
 "nbformat": 4,
 "nbformat_minor": 5
}
